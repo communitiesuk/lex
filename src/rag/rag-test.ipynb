{
 "cells": [
  {
   "cell_type": "code",
   "execution_count": null,
   "id": "c804cc59",
   "metadata": {},
   "outputs": [
    {
     "name": "stderr",
     "output_type": "stream",
     "text": [
      "/Users/radoslawkowalczyk/lex/.venv/lib/python3.12/site-packages/requests/__init__.py:86: RequestsDependencyWarning: Unable to find acceptable character detection dependency (chardet or charset_normalizer).\n",
      "  warnings.warn(\n"
     ]
    },
    {
     "name": "stdout",
     "output_type": "stream",
     "text": [
      "The Climate Change Act imposes the following duties on the Secretary of State:\n",
      "\n",
      "1. **Reports on Non-Devolved Provisions of the Act (s.97)**:\n",
      "   - The Secretary of State must prepare and publish reports on the status of the provisions in Part 1 of the Act for each reporting period.\n",
      "   - The report must include a statement that the Secretary of State is satisfied that the status of these provisions is appropriate.\n",
      "   - The reports must address whether provisions are in force, and whether certain powers (e.g., bringing provisions into force, suspending or reviving provisions, altering expiry dates) have been exercised during the reporting period.\n",
      "   - Reports are required every two months during the Act's substantive operational period.\n",
      "   - Reports must be laid before Parliament. If a report is not prepared and published within 7 days after the reporting period ends, the Secretary of State must provide a written statement explaining the delay and publish it.\n",
      "\n",
      "2. **Reports on International Environmental Protection Legislation (s.21)**:\n",
      "   - The Secretary of State must report on significant developments in international environmental protection legislation, including legislation of other countries, territories, and international organisations, which is mainly concerned with environmental protection.\n",
      "   - Reports must be prepared every two years and may focus on specific countries, territories, organisations, or aspects of environmental protection as deemed appropriate.\n",
      "   - These reports must be laid before Parliament and published as soon as reasonably practicable after the reporting period ends.\n",
      "\n",
      "3. **Regulations Regarding Annual Returns on Conservation Covenants (s.136)**:\n",
      "   - The Secretary of State may create regulations around the annual returns that designated bodies must submit concerning conservation covenants they oversee.\n",
      "   - The Secretary of State has the power to direct periods and deadlines for these returns and must take reasonable steps to inform affected bodies of such directions.\n",
      "   - Regulations must be made through the negative procedure and may include general or specific provisions related to particular designated bodies.\n",
      "\n",
      "These duties ensure that the Secretary of State maintains accountability for non-devolved climate change provisions, monitors international environmental legislation developments, and oversees compliance with conservation covenants.\n"
     ]
    }
   ],
   "source": [
    "# One cell notebook: Lex section search + Azure OpenAI RAG\n",
    "# -------------------------------------------------------\n",
    "\n",
    "import os, json, requests\n",
    "from dotenv import load_dotenv\n",
    "from openai import AzureOpenAI\n",
    "\n",
    "# ---------- 0. config --------------------------------------------------------\n",
    "load_dotenv()\n",
    "\n",
    "# Define the url of the Lex backend\n",
    "LEX = \"http://localhost:8000\"\n",
    "MODEL = \"gpt-4o\"\n",
    "\n",
    "# Define the Azure OpenAI client\n",
    "oai = AzureOpenAI(\n",
    "    azure_endpoint = os.getenv(\"AZURE_OPENAI_ENDPOINT\"),\n",
    "    api_key = os.getenv(\"AZURE_OPENAI_KEY\"),\n",
    "    api_version = \"2025-04-01-preview\",\n",
    ")\n",
    "\n",
    "# ---------- 1. retriever -----------------------------------------------------\n",
    "def search_sections(query: str, k: int = 3):\n",
    "    \"\"\"POST to send search parameters to the /legislation/section/search endpoint and return list of results\"\"\"\n",
    "    r = requests.post(\n",
    "        # one of REST API endpoints exposed by Lex for searching legislation sections\n",
    "        url=f\"{LEX}/legislation/section/search\",\n",
    "        # the request body which is the query to elastic search and the number of results to return\n",
    "        json={\"query\": query, \"size\": k},\n",
    "        # time after which the request is cancelled\n",
    "        timeout=30,\n",
    "    )\n",
    "    # raise an exception if the request fails\n",
    "    r.raise_for_status()\n",
    "    return r.json()\n",
    "\n",
    "# ---------- 2. RAG function --------------------------------------------------\n",
    "def ask(question: str, k: int = 3) -> str:\n",
    "    \"\"\"\n",
    "    Ask a question to the RAG system.\n",
    "    \"\"\"\n",
    "    hits = search_sections(question, k)\n",
    "    # if no hits are found, return a message\n",
    "    if not hits:\n",
    "        return \"I couldn’t find any passages.\"\n",
    "\n",
    "    # Build context string using the keys ('title', 'number', 'text', 'legislation_year')\n",
    "    # ie format the results into context the LLM should use for the answer\n",
    "    ctx = \"\\n\\n\".join(\n",
    "        f\"{h['title']} s.{h.get('number','?')} ({h['legislation_year']}): {h['text']}\"\n",
    "        for h in hits\n",
    "    )\n",
    "    # build the messages to send to the LLM, including system prompt, question and context\n",
    "    messages = [\n",
    "        {\"role\":\"system\",\n",
    "         \"content\":\"You are a UK public‑law assistant. Base answers strictly on the extracts provided.\"},\n",
    "        {\"role\":\"user\",\n",
    "         \"content\":f\"Question: {question}\\n\\nExtracts:\\n{ctx}\"},\n",
    "    ]\n",
    "\n",
    "    # send the messages to the LLM\n",
    "    resp = oai.chat.completions.create(model=MODEL, messages=messages)\n",
    "    # return the answer\n",
    "    return resp.choices[0].message.content\n",
    "\n",
    "# ---------- 3. demo ----------------------------------------------------------\n",
    "print( ask(\"What duties does the Climate Change Act impose on the Secretary of State?\") )"
   ]
  }
 ],
 "metadata": {
  "kernelspec": {
   "display_name": ".venv",
   "language": "python",
   "name": "python3"
  },
  "language_info": {
   "codemirror_mode": {
    "name": "ipython",
    "version": 3
   },
   "file_extension": ".py",
   "mimetype": "text/x-python",
   "name": "python",
   "nbconvert_exporter": "python",
   "pygments_lexer": "ipython3",
   "version": "3.12.11"
  }
 },
 "nbformat": 4,
 "nbformat_minor": 5
}
